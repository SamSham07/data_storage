{
  "cells": [
    {
      "cell_type": "markdown",
      "metadata": {
        "id": "view-in-github",
        "colab_type": "text"
      },
      "source": [
        "<a href=\"https://colab.research.google.com/github/SamSham07/data_storage/blob/main/Concrete_Prediction_and_Inverse_Design.ipynb\" target=\"_parent\"><img src=\"https://colab.research.google.com/assets/colab-badge.svg\" alt=\"Open In Colab\"/></a>"
      ]
    },
    {
      "cell_type": "code",
      "execution_count": null,
      "metadata": {
        "id": "VI1WS9RcJgEt"
      },
      "outputs": [],
      "source": [
        "# https://github.com/acceleratedmaterials/Astar_AMDworkshop_demo/blob/master/property_prediction/demo.ipynb"
      ]
    },
    {
      "cell_type": "code",
      "execution_count": null,
      "metadata": {
        "id": "cLxURaHhJh1u"
      },
      "outputs": [],
      "source": [
        "import numpy as np\n",
        "import pandas as pd\n",
        "\n",
        "np.random.seed(0)\n",
        "pd.options.display.max_rows = 20"
      ]
    },
    {
      "cell_type": "markdown",
      "metadata": {
        "id": "RET9VPX1JrRD"
      },
      "source": [
        "0. Importing the dataset"
      ]
    },
    {
      "cell_type": "code",
      "execution_count": null,
      "metadata": {
        "colab": {
          "base_uri": "https://localhost:8080/",
          "height": 502
        },
        "id": "O9p_X0UzJqBS",
        "outputId": "c718f9e2-a3ab-42d7-e05a-40971746bb87"
      },
      "outputs": [
        {
          "output_type": "execute_result",
          "data": {
            "text/html": [
              "\n",
              "  <div id=\"df-0f657b27-8cb0-4ce3-a32f-202de1f9ea89\">\n",
              "    <div class=\"colab-df-container\">\n",
              "      <div>\n",
              "<style scoped>\n",
              "    .dataframe tbody tr th:only-of-type {\n",
              "        vertical-align: middle;\n",
              "    }\n",
              "\n",
              "    .dataframe tbody tr th {\n",
              "        vertical-align: top;\n",
              "    }\n",
              "\n",
              "    .dataframe thead th {\n",
              "        text-align: right;\n",
              "    }\n",
              "</style>\n",
              "<table border=\"1\" class=\"dataframe\">\n",
              "  <thead>\n",
              "    <tr style=\"text-align: right;\">\n",
              "      <th></th>\n",
              "      <th>Cement (component 1)(kg in a m^3 mixture)</th>\n",
              "      <th>Blast Furnace Slag (component 2)(kg in a m^3 mixture)</th>\n",
              "      <th>Fly Ash (component 3)(kg in a m^3 mixture)</th>\n",
              "      <th>Water  (component 4)(kg in a m^3 mixture)</th>\n",
              "      <th>Superplasticizer (component 5)(kg in a m^3 mixture)</th>\n",
              "      <th>Coarse Aggregate  (component 6)(kg in a m^3 mixture)</th>\n",
              "      <th>Fine Aggregate (component 7)(kg in a m^3 mixture)</th>\n",
              "      <th>Age (day)</th>\n",
              "      <th>Concrete compressive strength(MPa, megapascals)</th>\n",
              "    </tr>\n",
              "  </thead>\n",
              "  <tbody>\n",
              "    <tr>\n",
              "      <th>0</th>\n",
              "      <td>540.0</td>\n",
              "      <td>0.0</td>\n",
              "      <td>0.0</td>\n",
              "      <td>162.0</td>\n",
              "      <td>2.5</td>\n",
              "      <td>1040.0</td>\n",
              "      <td>676.0</td>\n",
              "      <td>28</td>\n",
              "      <td>79.99</td>\n",
              "    </tr>\n",
              "    <tr>\n",
              "      <th>1</th>\n",
              "      <td>540.0</td>\n",
              "      <td>0.0</td>\n",
              "      <td>0.0</td>\n",
              "      <td>162.0</td>\n",
              "      <td>2.5</td>\n",
              "      <td>1055.0</td>\n",
              "      <td>676.0</td>\n",
              "      <td>28</td>\n",
              "      <td>61.89</td>\n",
              "    </tr>\n",
              "    <tr>\n",
              "      <th>2</th>\n",
              "      <td>332.5</td>\n",
              "      <td>142.5</td>\n",
              "      <td>0.0</td>\n",
              "      <td>228.0</td>\n",
              "      <td>0.0</td>\n",
              "      <td>932.0</td>\n",
              "      <td>594.0</td>\n",
              "      <td>270</td>\n",
              "      <td>40.27</td>\n",
              "    </tr>\n",
              "    <tr>\n",
              "      <th>3</th>\n",
              "      <td>332.5</td>\n",
              "      <td>142.5</td>\n",
              "      <td>0.0</td>\n",
              "      <td>228.0</td>\n",
              "      <td>0.0</td>\n",
              "      <td>932.0</td>\n",
              "      <td>594.0</td>\n",
              "      <td>365</td>\n",
              "      <td>41.05</td>\n",
              "    </tr>\n",
              "    <tr>\n",
              "      <th>4</th>\n",
              "      <td>198.6</td>\n",
              "      <td>132.4</td>\n",
              "      <td>0.0</td>\n",
              "      <td>192.0</td>\n",
              "      <td>0.0</td>\n",
              "      <td>978.4</td>\n",
              "      <td>825.5</td>\n",
              "      <td>360</td>\n",
              "      <td>44.30</td>\n",
              "    </tr>\n",
              "    <tr>\n",
              "      <th>...</th>\n",
              "      <td>...</td>\n",
              "      <td>...</td>\n",
              "      <td>...</td>\n",
              "      <td>...</td>\n",
              "      <td>...</td>\n",
              "      <td>...</td>\n",
              "      <td>...</td>\n",
              "      <td>...</td>\n",
              "      <td>...</td>\n",
              "    </tr>\n",
              "    <tr>\n",
              "      <th>1025</th>\n",
              "      <td>276.4</td>\n",
              "      <td>116.0</td>\n",
              "      <td>90.3</td>\n",
              "      <td>179.6</td>\n",
              "      <td>8.9</td>\n",
              "      <td>870.1</td>\n",
              "      <td>768.3</td>\n",
              "      <td>28</td>\n",
              "      <td>44.28</td>\n",
              "    </tr>\n",
              "    <tr>\n",
              "      <th>1026</th>\n",
              "      <td>322.2</td>\n",
              "      <td>0.0</td>\n",
              "      <td>115.6</td>\n",
              "      <td>196.0</td>\n",
              "      <td>10.4</td>\n",
              "      <td>817.9</td>\n",
              "      <td>813.4</td>\n",
              "      <td>28</td>\n",
              "      <td>31.18</td>\n",
              "    </tr>\n",
              "    <tr>\n",
              "      <th>1027</th>\n",
              "      <td>148.5</td>\n",
              "      <td>139.4</td>\n",
              "      <td>108.6</td>\n",
              "      <td>192.7</td>\n",
              "      <td>6.1</td>\n",
              "      <td>892.4</td>\n",
              "      <td>780.0</td>\n",
              "      <td>28</td>\n",
              "      <td>23.70</td>\n",
              "    </tr>\n",
              "    <tr>\n",
              "      <th>1028</th>\n",
              "      <td>159.1</td>\n",
              "      <td>186.7</td>\n",
              "      <td>0.0</td>\n",
              "      <td>175.6</td>\n",
              "      <td>11.3</td>\n",
              "      <td>989.6</td>\n",
              "      <td>788.9</td>\n",
              "      <td>28</td>\n",
              "      <td>32.77</td>\n",
              "    </tr>\n",
              "    <tr>\n",
              "      <th>1029</th>\n",
              "      <td>260.9</td>\n",
              "      <td>100.5</td>\n",
              "      <td>78.3</td>\n",
              "      <td>200.6</td>\n",
              "      <td>8.6</td>\n",
              "      <td>864.5</td>\n",
              "      <td>761.5</td>\n",
              "      <td>28</td>\n",
              "      <td>32.40</td>\n",
              "    </tr>\n",
              "  </tbody>\n",
              "</table>\n",
              "<p>1030 rows × 9 columns</p>\n",
              "</div>\n",
              "      <button class=\"colab-df-convert\" onclick=\"convertToInteractive('df-0f657b27-8cb0-4ce3-a32f-202de1f9ea89')\"\n",
              "              title=\"Convert this dataframe to an interactive table.\"\n",
              "              style=\"display:none;\">\n",
              "        \n",
              "  <svg xmlns=\"http://www.w3.org/2000/svg\" height=\"24px\"viewBox=\"0 0 24 24\"\n",
              "       width=\"24px\">\n",
              "    <path d=\"M0 0h24v24H0V0z\" fill=\"none\"/>\n",
              "    <path d=\"M18.56 5.44l.94 2.06.94-2.06 2.06-.94-2.06-.94-.94-2.06-.94 2.06-2.06.94zm-11 1L8.5 8.5l.94-2.06 2.06-.94-2.06-.94L8.5 2.5l-.94 2.06-2.06.94zm10 10l.94 2.06.94-2.06 2.06-.94-2.06-.94-.94-2.06-.94 2.06-2.06.94z\"/><path d=\"M17.41 7.96l-1.37-1.37c-.4-.4-.92-.59-1.43-.59-.52 0-1.04.2-1.43.59L10.3 9.45l-7.72 7.72c-.78.78-.78 2.05 0 2.83L4 21.41c.39.39.9.59 1.41.59.51 0 1.02-.2 1.41-.59l7.78-7.78 2.81-2.81c.8-.78.8-2.07 0-2.86zM5.41 20L4 18.59l7.72-7.72 1.47 1.35L5.41 20z\"/>\n",
              "  </svg>\n",
              "      </button>\n",
              "      \n",
              "  <style>\n",
              "    .colab-df-container {\n",
              "      display:flex;\n",
              "      flex-wrap:wrap;\n",
              "      gap: 12px;\n",
              "    }\n",
              "\n",
              "    .colab-df-convert {\n",
              "      background-color: #E8F0FE;\n",
              "      border: none;\n",
              "      border-radius: 50%;\n",
              "      cursor: pointer;\n",
              "      display: none;\n",
              "      fill: #1967D2;\n",
              "      height: 32px;\n",
              "      padding: 0 0 0 0;\n",
              "      width: 32px;\n",
              "    }\n",
              "\n",
              "    .colab-df-convert:hover {\n",
              "      background-color: #E2EBFA;\n",
              "      box-shadow: 0px 1px 2px rgba(60, 64, 67, 0.3), 0px 1px 3px 1px rgba(60, 64, 67, 0.15);\n",
              "      fill: #174EA6;\n",
              "    }\n",
              "\n",
              "    [theme=dark] .colab-df-convert {\n",
              "      background-color: #3B4455;\n",
              "      fill: #D2E3FC;\n",
              "    }\n",
              "\n",
              "    [theme=dark] .colab-df-convert:hover {\n",
              "      background-color: #434B5C;\n",
              "      box-shadow: 0px 1px 3px 1px rgba(0, 0, 0, 0.15);\n",
              "      filter: drop-shadow(0px 1px 2px rgba(0, 0, 0, 0.3));\n",
              "      fill: #FFFFFF;\n",
              "    }\n",
              "  </style>\n",
              "\n",
              "      <script>\n",
              "        const buttonEl =\n",
              "          document.querySelector('#df-0f657b27-8cb0-4ce3-a32f-202de1f9ea89 button.colab-df-convert');\n",
              "        buttonEl.style.display =\n",
              "          google.colab.kernel.accessAllowed ? 'block' : 'none';\n",
              "\n",
              "        async function convertToInteractive(key) {\n",
              "          const element = document.querySelector('#df-0f657b27-8cb0-4ce3-a32f-202de1f9ea89');\n",
              "          const dataTable =\n",
              "            await google.colab.kernel.invokeFunction('convertToInteractive',\n",
              "                                                     [key], {});\n",
              "          if (!dataTable) return;\n",
              "\n",
              "          const docLinkHtml = 'Like what you see? Visit the ' +\n",
              "            '<a target=\"_blank\" href=https://colab.research.google.com/notebooks/data_table.ipynb>data table notebook</a>'\n",
              "            + ' to learn more about interactive tables.';\n",
              "          element.innerHTML = '';\n",
              "          dataTable['output_type'] = 'display_data';\n",
              "          await google.colab.output.renderOutput(dataTable, element);\n",
              "          const docLink = document.createElement('div');\n",
              "          docLink.innerHTML = docLinkHtml;\n",
              "          element.appendChild(docLink);\n",
              "        }\n",
              "      </script>\n",
              "    </div>\n",
              "  </div>\n",
              "  "
            ],
            "text/plain": [
              "      Cement (component 1)(kg in a m^3 mixture)  ...  Concrete compressive strength(MPa, megapascals) \n",
              "0                                         540.0  ...                                             79.99\n",
              "1                                         540.0  ...                                             61.89\n",
              "2                                         332.5  ...                                             40.27\n",
              "3                                         332.5  ...                                             41.05\n",
              "4                                         198.6  ...                                             44.30\n",
              "...                                         ...  ...                                               ...\n",
              "1025                                      276.4  ...                                             44.28\n",
              "1026                                      322.2  ...                                             31.18\n",
              "1027                                      148.5  ...                                             23.70\n",
              "1028                                      159.1  ...                                             32.77\n",
              "1029                                      260.9  ...                                             32.40\n",
              "\n",
              "[1030 rows x 9 columns]"
            ]
          },
          "metadata": {},
          "execution_count": 118
        }
      ],
      "source": [
        "df = pd.read_csv('https://raw.githubusercontent.com/SamSham07/data_storage/main/Concrete_Data.csv')\n",
        "df"
      ]
    },
    {
      "cell_type": "code",
      "execution_count": null,
      "metadata": {
        "colab": {
          "base_uri": "https://localhost:8080/"
        },
        "id": "sTZuFx7jMrmK",
        "outputId": "55e50813-6dcb-416b-f0f9-47e561bf30bc"
      },
      "outputs": [
        {
          "name": "stdout",
          "output_type": "stream",
          "text": [
            "<class 'pandas.core.frame.DataFrame'>\n",
            "RangeIndex: 1030 entries, 0 to 1029\n",
            "Data columns (total 9 columns):\n",
            " #   Column                                                 Non-Null Count  Dtype  \n",
            "---  ------                                                 --------------  -----  \n",
            " 0   Cement (component 1)(kg in a m^3 mixture)              1030 non-null   float64\n",
            " 1   Blast Furnace Slag (component 2)(kg in a m^3 mixture)  1030 non-null   float64\n",
            " 2   Fly Ash (component 3)(kg in a m^3 mixture)             1030 non-null   float64\n",
            " 3   Water  (component 4)(kg in a m^3 mixture)              1030 non-null   float64\n",
            " 4   Superplasticizer (component 5)(kg in a m^3 mixture)    1030 non-null   float64\n",
            " 5   Coarse Aggregate  (component 6)(kg in a m^3 mixture)   1030 non-null   float64\n",
            " 6   Fine Aggregate (component 7)(kg in a m^3 mixture)      1030 non-null   float64\n",
            " 7   Age (day)                                              1030 non-null   int64  \n",
            " 8   Concrete compressive strength(MPa, megapascals)        1030 non-null   float64\n",
            "dtypes: float64(8), int64(1)\n",
            "memory usage: 72.5 KB\n"
          ]
        }
      ],
      "source": [
        "df.info()"
      ]
    },
    {
      "cell_type": "markdown",
      "metadata": {
        "id": "5YNyylpLJ9Jy"
      },
      "source": [
        "Train-test split"
      ]
    },
    {
      "cell_type": "code",
      "execution_count": null,
      "metadata": {
        "id": "PhOUerqXJ5L7"
      },
      "outputs": [],
      "source": [
        "from sklearn.model_selection import train_test_split\n",
        "\n",
        "X, y = df[df.columns[:-1]], df[df.columns[-1]]\n",
        "X_train, X_test, y_train, y_test = train_test_split(\n",
        "    X, y, test_size=0.2\n",
        ")"
      ]
    },
    {
      "cell_type": "code",
      "execution_count": null,
      "metadata": {
        "id": "urW2I-QOSHtp"
      },
      "outputs": [],
      "source": [
        "# Create evaluation function (the competition uses Root Mean Square Log Error)\n",
        "from sklearn.metrics import mean_squared_log_error, mean_absolute_error\n",
        "\n",
        "def rmsle(y_test, y_preds):\n",
        "    return np.sqrt(mean_squared_log_error(y_test, y_preds))\n",
        "\n",
        "# Create function to evaluate our model\n",
        "def show_scores(model):\n",
        "    train_preds = model.predict(X_train)\n",
        "    val_preds = model.predict(X_test)\n",
        "    scores = {\"Training MAE\": mean_absolute_error(y_train, train_preds),\n",
        "              \"Valid MAE\": mean_absolute_error(y_test, val_preds),\n",
        "              \"Training RMSLE\": rmsle(y_train, train_preds),\n",
        "              \"Valid RMSLE\": rmsle(y_test, val_preds),\n",
        "              \"Training R^2\": model.score(X_train, y_train),\n",
        "              \"Valid R^2\": model.score(X_test, y_test)}\n",
        "    return scores"
      ]
    },
    {
      "cell_type": "markdown",
      "metadata": {
        "id": "J6M7ZJpAKCjK"
      },
      "source": [
        "**1. Linear Regression Baseline**\n",
        "\n",
        "We first consider a linear regression baseline, where we fit a linear model"
      ]
    },
    {
      "cell_type": "code",
      "execution_count": null,
      "metadata": {
        "id": "ilZ2ALhHKB2b"
      },
      "outputs": [],
      "source": [
        "from sklearn.linear_model import LinearRegression\n",
        "\n",
        "regressor = LinearRegression()\n",
        "regressor.fit(X_train, y_train)\n",
        "\n",
        "y_hat_train = regressor.predict(X_train)  # Training set predictions\n",
        "y_hat_test = regressor.predict(X_test)  # Test set predictions"
      ]
    },
    {
      "cell_type": "code",
      "execution_count": null,
      "metadata": {
        "colab": {
          "base_uri": "https://localhost:8080/"
        },
        "id": "htWWaTTOS8FY",
        "outputId": "7dd1f8ec-d2d4-416d-f531-aad790248e9d"
      },
      "outputs": [
        {
          "data": {
            "text/plain": [
              "{'Training MAE': 8.329066637061821,\n",
              " 'Training RMSLE': 0.3290273012634245,\n",
              " 'Training R^2': 0.6091237370441138,\n",
              " 'Valid MAE': 7.864641991336007,\n",
              " 'Valid RMSLE': 0.35017665379160606,\n",
              " 'Valid R^2': 0.6369606518338298}"
            ]
          },
          "execution_count": 73,
          "metadata": {},
          "output_type": "execute_result"
        }
      ],
      "source": [
        "# Evaluate the RandomizedSearch model\n",
        "show_scores(regressor)"
      ]
    },
    {
      "cell_type": "markdown",
      "metadata": {
        "id": "GAogzEjTKNhi"
      },
      "source": [
        "**2. Gradient Boosting Regression**\n",
        "\n",
        "Let us now use a more robust regressor for non-linear regression. Again, we use canned implementations from sklearn."
      ]
    },
    {
      "cell_type": "code",
      "execution_count": null,
      "metadata": {
        "id": "owLWP0YKKM5x"
      },
      "outputs": [],
      "source": [
        "from sklearn.ensemble import GradientBoostingRegressor\n",
        "\n",
        "regressor = GradientBoostingRegressor()\n",
        "regressor.fit(X_train, y_train)\n",
        "\n",
        "y_hat_train = regressor.predict(X_train)\n",
        "y_hat_test = regressor.predict(X_test)"
      ]
    },
    {
      "cell_type": "markdown",
      "metadata": {
        "id": "HCQK0Pl5KRNp"
      },
      "source": [
        "**Feature importance**\n",
        "\n",
        "Decision tree based ensemble models can also tell us how sensitive (in a very loose sense) the output is to each input parameter."
      ]
    },
    {
      "cell_type": "code",
      "execution_count": null,
      "metadata": {
        "colab": {
          "base_uri": "https://localhost:8080/"
        },
        "id": "yKcvwESMJ_bl",
        "outputId": "a9568b6d-9b32-4bad-9ca7-c2cbfd1d3284"
      },
      "outputs": [
        {
          "data": {
            "text/plain": [
              "array([0.29240455, 0.08147877, 0.00890462, 0.0958448 , 0.10977279,\n",
              "       0.01398109, 0.03877004, 0.35884334])"
            ]
          },
          "execution_count": 75,
          "metadata": {},
          "output_type": "execute_result"
        }
      ],
      "source": [
        "# Find feature importance of our best model\n",
        "regressor.feature_importances_"
      ]
    },
    {
      "cell_type": "code",
      "execution_count": null,
      "metadata": {
        "id": "iiu9oyKUOaEH"
      },
      "outputs": [],
      "source": [
        "import seaborn as sns\n",
        "\n",
        "# Helper function for plotting feature importance\n",
        "def plot_features(columns, importances, n=20):\n",
        "    df = (pd.DataFrame({\"features\": columns,\n",
        "                        \"feature_importance\": importances})\n",
        "          .sort_values(\"feature_importance\", ascending=False)\n",
        "          .reset_index(drop=True))\n",
        "    \n",
        "    sns.barplot(x=\"feature_importance\",\n",
        "                y=\"features\",\n",
        "                data=df[:n],\n",
        "                orient=\"h\")"
      ]
    },
    {
      "cell_type": "code",
      "execution_count": null,
      "metadata": {
        "colab": {
          "base_uri": "https://localhost:8080/",
          "height": 280
        },
        "id": "n4vjc_vpOg3O",
        "outputId": "e69e4782-84e7-4682-b566-416edf6fb782"
      },
      "outputs": [
        {
          "data": {
            "image/png": "[encoded data removed]",
            "text/plain": [
              "<Figure size 432x288 with 1 Axes>"
            ]
          },
          "metadata": {},
          "output_type": "display_data"
        }
      ],
      "source": [
        "plot_features(X_train.columns, regressor.feature_importances_)"
      ]
    },
    {
      "cell_type": "markdown",
      "metadata": {
        "id": "KkG1qZzOKqqf"
      },
      "source": [
        "**2.1 Overfitting**\n",
        "\n",
        "Here, let us demonstrate overfitting for the gradient boosting regressor. This can be done by drastically increasing the model complexity. One simple way to increase the model complexity is by increasing the max_depth parameter in GradientBoostingRegressor()"
      ]
    },
    {
      "cell_type": "code",
      "execution_count": null,
      "metadata": {
        "id": "Arag_AdzKpoQ"
      },
      "outputs": [],
      "source": [
        "from sklearn.ensemble import GradientBoostingRegressor\n",
        "\n",
        "regressor = GradientBoostingRegressor(max_depth=10)\n",
        "regressor.fit(X_train, y_train)\n",
        "\n",
        "y_hat_train = regressor.predict(X_train)\n",
        "y_hat_test = regressor.predict(X_test)"
      ]
    },
    {
      "cell_type": "code",
      "execution_count": null,
      "metadata": {
        "colab": {
          "base_uri": "https://localhost:8080/"
        },
        "id": "oBMa23JDSyrC",
        "outputId": "a681393a-7447-4cc8-acd3-b83204407822"
      },
      "outputs": [
        {
          "data": {
            "text/plain": [
              "{'Training MAE': 0.11646058984234574,\n",
              " 'Training RMSLE': 0.029279446772101113,\n",
              " 'Training R^2': 0.9956195695293864,\n",
              " 'Valid MAE': 3.874107821651361,\n",
              " 'Valid RMSLE': 0.18684214325084664,\n",
              " 'Valid R^2': 0.8630217370083012}"
            ]
          },
          "execution_count": 79,
          "metadata": {},
          "output_type": "execute_result"
        }
      ],
      "source": [
        "# Evaluate the RandomizedSearch model\n",
        "show_scores(regressor)"
      ]
    },
    {
      "cell_type": "markdown",
      "metadata": {
        "id": "dkq1JOwYKy83"
      },
      "source": [
        "**2.2 Hyper-parameter Tuning**\n",
        "\n",
        "Observe that GradientBoostingRegressor() performed much better than LinearRegression(). Can we improve it further?\n",
        "\n",
        "Let us take a quick look at the documentation of GradientBoostingRegressor()"
      ]
    },
    {
      "cell_type": "code",
      "execution_count": null,
      "metadata": {
        "colab": {
          "base_uri": "https://localhost:8080/"
        },
        "id": "eHeoGJjnKvZl",
        "outputId": "d8bb87be-c483-4dca-a8fd-669299b65d9e"
      },
      "outputs": [
        {
          "name": "stdout",
          "output_type": "stream",
          "text": [
            "Gradient Boosting for regression.\n",
            "\n",
            "    GB builds an additive model in a forward stage-wise fashion;\n",
            "    it allows for the optimization of arbitrary differentiable loss functions.\n",
            "    In each stage a regression tree is fit on the negative gradient of the\n",
            "    given loss function.\n",
            "\n",
            "    Read more in the :ref:`User Guide <gradient_boosting>`.\n",
            "\n",
            "    Parameters\n",
            "    ----------\n",
            "    loss : {'squared_error', 'absolute_error', 'huber', 'quantile'},             default='squared_error'\n",
            "        Loss function to be optimized. 'squared_error' refers to the squared\n",
            "        error for regression. 'absolute_error' refers to the absolute error of\n",
            "        regression and is a robust loss function. 'huber' is a\n",
            "        combination of the two. 'quantile' allows quantile regression (use\n",
            "        `alpha` to specify the quantile).\n",
            "\n",
            "        .. deprecated:: 1.0\n",
            "            The loss 'ls' was deprecated in v1.0 and will be removed in\n",
            "            version 1.2. Use `loss='squared_error'` which is equivalent.\n",
            "\n",
            "        .. deprecated:: 1.0\n",
            "            The loss 'lad' was deprecated in v1.0 and will be removed in\n",
            "            version 1.2. Use `loss='absolute_error'` which is equivalent.\n",
            "\n",
            "    learning_rate : float, default=0.1\n",
            "        Learning rate shrinks the contribution of each tree by `learning_rate`.\n",
            "        There is a trade-off between learning_rate and n_estimators.\n",
            "\n",
            "    n_estimators : int, default=100\n",
            "        The number of boosting stages to perform. Gradient boosting\n",
            "        is fairly robust to over-fitting so a large number usually\n",
            "        results in better performance.\n",
            "\n",
            "    subsample : float, default=1.0\n",
            "        The fraction of samples to be used for fitting the individual base\n",
            "        learners. If smaller than 1.0 this results in Stochastic Gradient\n",
            "        Boosting. `subsample` interacts with the parameter `n_estimators`.\n",
            "        Choosing `subsample < 1.0` leads to a reduction of variance\n",
            "        and an increase in bias.\n",
            "\n",
            "    criterion : {'friedman_mse', 'squared_error', 'mse', 'mae'},             default='friedman_mse'\n",
            "        The function to measure the quality of a split. Supported criteria\n",
            "        are \"friedman_mse\" for the mean squared error with improvement\n",
            "        score by Friedman, \"squared_error\" for mean squared error, and \"mae\"\n",
            "        for the mean absolute error. The default value of \"friedman_mse\" is\n",
            "        generally the best as it can provide a better approximation in some\n",
            "        cases.\n",
            "\n",
            "        .. versionadded:: 0.18\n",
            "\n",
            "        .. deprecated:: 0.24\n",
            "            `criterion='mae'` is deprecated and will be removed in version\n",
            "            1.1 (renaming of 0.26). The correct way of minimizing the absolute\n",
            "            error is to use `loss='absolute_error'` instead.\n",
            "\n",
            "        .. deprecated:: 1.0\n",
            "            Criterion 'mse' was deprecated in v1.0 and will be removed in\n",
            "            version 1.2. Use `criterion='squared_error'` which is equivalent.\n",
            "\n",
            "    min_samples_split : int or float, default=2\n",
            "        The minimum number of samples required to split an internal node:\n",
            "\n",
            "        - If int, then consider `min_samples_split` as the minimum number.\n",
            "        - If float, then `min_samples_split` is a fraction and\n",
            "          `ceil(min_samples_split * n_samples)` are the minimum\n",
            "          number of samples for each split.\n",
            "\n",
            "        .. versionchanged:: 0.18\n",
            "           Added float values for fractions.\n",
            "\n",
            "    min_samples_leaf : int or float, default=1\n",
            "        The minimum number of samples required to be at a leaf node.\n",
            "        A split point at any depth will only be considered if it leaves at\n",
            "        least ``min_samples_leaf`` training samples in each of the left and\n",
            "        right branches.  This may have the effect of smoothing the model,\n",
            "        especially in regression.\n",
            "\n",
            "        - If int, then consider `min_samples_leaf` as the minimum number.\n",
            "        - If float, then `min_samples_leaf` is a fraction and\n",
            "          `ceil(min_samples_leaf * n_samples)` are the minimum\n",
            "          number of samples for each node.\n",
            "\n",
            "        .. versionchanged:: 0.18\n",
            "           Added float values for fractions.\n",
            "\n",
            "    min_weight_fraction_leaf : float, default=0.0\n",
            "        The minimum weighted fraction of the sum total of weights (of all\n",
            "        the input samples) required to be at a leaf node. Samples have\n",
            "        equal weight when sample_weight is not provided.\n",
            "\n",
            "    max_depth : int, default=3\n",
            "        Maximum depth of the individual regression estimators. The maximum\n",
            "        depth limits the number of nodes in the tree. Tune this parameter\n",
            "        for best performance; the best value depends on the interaction\n",
            "        of the input variables.\n",
            "\n",
            "    min_impurity_decrease : float, default=0.0\n",
            "        A node will be split if this split induces a decrease of the impurity\n",
            "        greater than or equal to this value.\n",
            "\n",
            "        The weighted impurity decrease equation is the following::\n",
            "\n",
            "            N_t / N * (impurity - N_t_R / N_t * right_impurity\n",
            "                                - N_t_L / N_t * left_impurity)\n",
            "\n",
            "        where ``N`` is the total number of samples, ``N_t`` is the number of\n",
            "        samples at the current node, ``N_t_L`` is the number of samples in the\n",
            "        left child, and ``N_t_R`` is the number of samples in the right child.\n",
            "\n",
            "        ``N``, ``N_t``, ``N_t_R`` and ``N_t_L`` all refer to the weighted sum,\n",
            "        if ``sample_weight`` is passed.\n",
            "\n",
            "        .. versionadded:: 0.19\n",
            "\n",
            "    init : estimator or 'zero', default=None\n",
            "        An estimator object that is used to compute the initial predictions.\n",
            "        ``init`` has to provide :term:`fit` and :term:`predict`. If 'zero', the\n",
            "        initial raw predictions are set to zero. By default a\n",
            "        ``DummyEstimator`` is used, predicting either the average target value\n",
            "        (for loss='squared_error'), or a quantile for the other losses.\n",
            "\n",
            "    random_state : int, RandomState instance or None, default=None\n",
            "        Controls the random seed given to each Tree estimator at each\n",
            "        boosting iteration.\n",
            "        In addition, it controls the random permutation of the features at\n",
            "        each split (see Notes for more details).\n",
            "        It also controls the random splitting of the training data to obtain a\n",
            "        validation set if `n_iter_no_change` is not None.\n",
            "        Pass an int for reproducible output across multiple function calls.\n",
            "        See :term:`Glossary <random_state>`.\n",
            "\n",
            "    max_features : {'auto', 'sqrt', 'log2'}, int or float, default=None\n",
            "        The number of features to consider when looking for the best split:\n",
            "\n",
            "        - If int, then consider `max_features` features at each split.\n",
            "        - If float, then `max_features` is a fraction and\n",
            "          `int(max_features * n_features)` features are considered at each\n",
            "          split.\n",
            "        - If \"auto\", then `max_features=n_features`.\n",
            "        - If \"sqrt\", then `max_features=sqrt(n_features)`.\n",
            "        - If \"log2\", then `max_features=log2(n_features)`.\n",
            "        - If None, then `max_features=n_features`.\n",
            "\n",
            "        Choosing `max_features < n_features` leads to a reduction of variance\n",
            "        and an increase in bias.\n",
            "\n",
            "        Note: the search for a split does not stop until at least one\n",
            "        valid partition of the node samples is found, even if it requires to\n",
            "        effectively inspect more than ``max_features`` features.\n",
            "\n",
            "    alpha : float, default=0.9\n",
            "        The alpha-quantile of the huber loss function and the quantile\n",
            "        loss function. Only if ``loss='huber'`` or ``loss='quantile'``.\n",
            "\n",
            "    verbose : int, default=0\n",
            "        Enable verbose output. If 1 then it prints progress and performance\n",
            "        once in a while (the more trees the lower the frequency). If greater\n",
            "        than 1 then it prints progress and performance for every tree.\n",
            "\n",
            "    max_leaf_nodes : int, default=None\n",
            "        Grow trees with ``max_leaf_nodes`` in best-first fashion.\n",
            "        Best nodes are defined as relative reduction in impurity.\n",
            "        If None then unlimited number of leaf nodes.\n",
            "\n",
            "    warm_start : bool, default=False\n",
            "        When set to ``True``, reuse the solution of the previous call to fit\n",
            "        and add more estimators to the ensemble, otherwise, just erase the\n",
            "        previous solution. See :term:`the Glossary <warm_start>`.\n",
            "\n",
            "    validation_fraction : float, default=0.1\n",
            "        The proportion of training data to set aside as validation set for\n",
            "        early stopping. Must be between 0 and 1.\n",
            "        Only used if ``n_iter_no_change`` is set to an integer.\n",
            "\n",
            "        .. versionadded:: 0.20\n",
            "\n",
            "    n_iter_no_change : int, default=None\n",
            "        ``n_iter_no_change`` is used to decide if early stopping will be used\n",
            "        to terminate training when validation score is not improving. By\n",
            "        default it is set to None to disable early stopping. If set to a\n",
            "        number, it will set aside ``validation_fraction`` size of the training\n",
            "        data as validation and terminate training when validation score is not\n",
            "        improving in all of the previous ``n_iter_no_change`` numbers of\n",
            "        iterations.\n",
            "\n",
            "        .. versionadded:: 0.20\n",
            "\n",
            "    tol : float, default=1e-4\n",
            "        Tolerance for the early stopping. When the loss is not improving\n",
            "        by at least tol for ``n_iter_no_change`` iterations (if set to a\n",
            "        number), the training stops.\n",
            "\n",
            "        .. versionadded:: 0.20\n",
            "\n",
            "    ccp_alpha : non-negative float, default=0.0\n",
            "        Complexity parameter used for Minimal Cost-Complexity Pruning. The\n",
            "        subtree with the largest cost complexity that is smaller than\n",
            "        ``ccp_alpha`` will be chosen. By default, no pruning is performed. See\n",
            "        :ref:`minimal_cost_complexity_pruning` for details.\n",
            "\n",
            "        .. versionadded:: 0.22\n",
            "\n",
            "    Attributes\n",
            "    ----------\n",
            "    feature_importances_ : ndarray of shape (n_features,)\n",
            "        The impurity-based feature importances.\n",
            "        The higher, the more important the feature.\n",
            "        The importance of a feature is computed as the (normalized)\n",
            "        total reduction of the criterion brought by that feature.  It is also\n",
            "        known as the Gini importance.\n",
            "\n",
            "        Warning: impurity-based feature importances can be misleading for\n",
            "        high cardinality features (many unique values). See\n",
            "        :func:`sklearn.inspection.permutation_importance` as an alternative.\n",
            "\n",
            "    oob_improvement_ : ndarray of shape (n_estimators,)\n",
            "        The improvement in loss (= deviance) on the out-of-bag samples\n",
            "        relative to the previous iteration.\n",
            "        ``oob_improvement_[0]`` is the improvement in\n",
            "        loss of the first stage over the ``init`` estimator.\n",
            "        Only available if ``subsample < 1.0``\n",
            "\n",
            "    train_score_ : ndarray of shape (n_estimators,)\n",
            "        The i-th score ``train_score_[i]`` is the deviance (= loss) of the\n",
            "        model at iteration ``i`` on the in-bag sample.\n",
            "        If ``subsample == 1`` this is the deviance on the training data.\n",
            "\n",
            "    loss_ : LossFunction\n",
            "        The concrete ``LossFunction`` object.\n",
            "\n",
            "    init_ : estimator\n",
            "        The estimator that provides the initial predictions.\n",
            "        Set via the ``init`` argument or ``loss.init_estimator``.\n",
            "\n",
            "    estimators_ : ndarray of DecisionTreeRegressor of shape (n_estimators, 1)\n",
            "        The collection of fitted sub-estimators.\n",
            "\n",
            "    n_classes_ : int\n",
            "        The number of classes, set to 1 for regressors.\n",
            "\n",
            "        .. deprecated:: 0.24\n",
            "            Attribute ``n_classes_`` was deprecated in version 0.24 and\n",
            "            will be removed in 1.1 (renaming of 0.26).\n",
            "\n",
            "    n_estimators_ : int\n",
            "        The number of estimators as selected by early stopping (if\n",
            "        ``n_iter_no_change`` is specified). Otherwise it is set to\n",
            "        ``n_estimators``.\n",
            "\n",
            "    n_features_ : int\n",
            "        The number of data features.\n",
            "\n",
            "        .. deprecated:: 1.0\n",
            "            Attribute `n_features_` was deprecated in version 1.0 and will be\n",
            "            removed in 1.2. Use `n_features_in_` instead.\n",
            "\n",
            "    n_features_in_ : int\n",
            "        Number of features seen during :term:`fit`.\n",
            "\n",
            "        .. versionadded:: 0.24\n",
            "\n",
            "    feature_names_in_ : ndarray of shape (`n_features_in_`,)\n",
            "        Names of features seen during :term:`fit`. Defined only when `X`\n",
            "        has feature names that are all strings.\n",
            "\n",
            "        .. versionadded:: 1.0\n",
            "\n",
            "    max_features_ : int\n",
            "        The inferred value of max_features.\n",
            "\n",
            "    See Also\n",
            "    --------\n",
            "    HistGradientBoostingRegressor : Histogram-based Gradient Boosting\n",
            "        Classification Tree.\n",
            "    sklearn.tree.DecisionTreeRegressor : A decision tree regressor.\n",
            "    sklearn.ensemble.RandomForestRegressor : A random forest regressor.\n",
            "\n",
            "    Notes\n",
            "    -----\n",
            "    The features are always randomly permuted at each split. Therefore,\n",
            "    the best found split may vary, even with the same training data and\n",
            "    ``max_features=n_features``, if the improvement of the criterion is\n",
            "    identical for several splits enumerated during the search of the best\n",
            "    split. To obtain a deterministic behaviour during fitting,\n",
            "    ``random_state`` has to be fixed.\n",
            "\n",
            "    References\n",
            "    ----------\n",
            "    J. Friedman, Greedy Function Approximation: A Gradient Boosting\n",
            "    Machine, The Annals of Statistics, Vol. 29, No. 5, 2001.\n",
            "\n",
            "    J. Friedman, Stochastic Gradient Boosting, 1999\n",
            "\n",
            "    T. Hastie, R. Tibshirani and J. Friedman.\n",
            "    Elements of Statistical Learning Ed. 2, Springer, 2009.\n",
            "\n",
            "    Examples\n",
            "    --------\n",
            "    >>> from sklearn.datasets import make_regression\n",
            "    >>> from sklearn.ensemble import GradientBoostingRegressor\n",
            "    >>> from sklearn.model_selection import train_test_split\n",
            "    >>> X, y = make_regression(random_state=0)\n",
            "    >>> X_train, X_test, y_train, y_test = train_test_split(\n",
            "    ...     X, y, random_state=0)\n",
            "    >>> reg = GradientBoostingRegressor(random_state=0)\n",
            "    >>> reg.fit(X_train, y_train)\n",
            "    GradientBoostingRegressor(random_state=0)\n",
            "    >>> reg.predict(X_test[1:2])\n",
            "    array([-61...])\n",
            "    >>> reg.score(X_test, y_test)\n",
            "    0.4...\n",
            "    \n"
          ]
        }
      ],
      "source": [
        "print(GradientBoostingRegressor.__doc__)"
      ]
    },
    {
      "cell_type": "markdown",
      "metadata": {
        "id": "bMqu26OdK6IH"
      },
      "source": [
        "**Tuning via Random Search CV**"
      ]
    },
    {
      "cell_type": "code",
      "execution_count": null,
      "metadata": {
        "id": "evfp1IPLK22X"
      },
      "outputs": [],
      "source": [
        "from scipy import stats \n",
        "\n",
        "param_distributions = {\n",
        "    'n_estimators': stats.randint(low=10, high=1000),\n",
        "    'max_depth': stats.randint(low=2, high=6),\n",
        "    'min_samples_split': stats.randint(low=2, high=5),\n",
        "    'learning_rate': [1, 0.5, 0.25, 0.1, 0.05, 0.01]\n",
        "}"
      ]
    },
    {
      "cell_type": "markdown",
      "metadata": {
        "id": "gk-pW86nLAmv"
      },
      "source": [
        "**Fit a CV-tuned regressor**"
      ]
    },
    {
      "cell_type": "code",
      "execution_count": null,
      "metadata": {
        "colab": {
          "base_uri": "https://localhost:8080/"
        },
        "id": "esTbouMJK-nG",
        "outputId": "cffadc2d-ccb1-46c6-832e-4b3f1032f62d"
      },
      "outputs": [
        {
          "name": "stdout",
          "output_type": "stream",
          "text": [
            "Fitting 5 folds for each of 50 candidates, totalling 250 fits\n",
            "Best params: \n",
            " {'learning_rate': 0.1, 'max_depth': 5, 'min_samples_split': 3, 'n_estimators': 430}\n"
          ]
        }
      ],
      "source": [
        "from sklearn.model_selection import RandomizedSearchCV\n",
        "\n",
        "regressor_cv = RandomizedSearchCV(\n",
        "    regressor, param_distributions=param_distributions,\n",
        "    n_iter=50, verbose=1)\n",
        "regressor_cv.fit(X_train, y_train)\n",
        "\n",
        "print('Best params: \\n', regressor_cv.best_params_)\n",
        "\n",
        "y_hat_train = regressor_cv.predict(X_train)\n",
        "y_hat_test = regressor_cv.predict(X_test)"
      ]
    },
    {
      "cell_type": "code",
      "execution_count": null,
      "metadata": {
        "colab": {
          "base_uri": "https://localhost:8080/"
        },
        "id": "VpH0srqhRI3T",
        "outputId": "a9448455-23c8-418a-cb16-151dc2c42cfa"
      },
      "outputs": [
        {
          "data": {
            "text/plain": [
              "{'Training MAE': 0.421492505506084,\n",
              " 'Training RMSLE': 0.03405688909536569,\n",
              " 'Training R^2': 0.994829552915575,\n",
              " 'Valid MAE': 2.7736197185778027,\n",
              " 'Valid RMSLE': 0.1388268039817909,\n",
              " 'Valid R^2': 0.9337024232726218}"
            ]
          },
          "execution_count": 83,
          "metadata": {},
          "output_type": "execute_result"
        }
      ],
      "source": [
        "# Evaluate the RandomizedSearch model\n",
        "show_scores(regressor_cv)"
      ]
    },
    {
      "cell_type": "code",
      "execution_count": null,
      "metadata": {
        "colab": {
          "background_save": true,
          "base_uri": "https://localhost:8080/"
        },
        "id": "nlizzM0yQW8w",
        "outputId": "647d4fe7-2e23-4e19-aa67-fe1f38521647"
      },
      "outputs": [
        {
          "name": "stdout",
          "output_type": "stream",
          "text": [
            "Fitting 5 folds for each of 50 candidates, totalling 250 fits\n"
          ]
        },
        {
          "data": {
            "text/plain": [
              "RandomizedSearchCV(estimator=GradientBoostingRegressor(max_depth=10), n_iter=50,\n",
              "                   param_distributions={'learning_rate': [1, 0.5, 0.25, 0.1,\n",
              "                                                          0.05, 0.01],\n",
              "                                        'max_depth': <scipy.stats._distn_infrastructure.rv_frozen object at 0x7ff87cf7f510>,\n",
              "                                        'min_samples_split': <scipy.stats._distn_infrastructure.rv_frozen object at 0x7ff87cf7f790>,\n",
              "                                        'n_estimators': <scipy.stats._distn_infrastructure.rv_frozen object at 0x7ff87cf7f590>},\n",
              "                   verbose=1)"
            ]
          },
          "execution_count": null,
          "metadata": {},
          "output_type": "execute_result"
        }
      ],
      "source": [
        "regressor_cv.fit(X_train, y_train)"
      ]
    },
    {
      "cell_type": "markdown",
      "metadata": {
        "id": "AgZnhy5lMfLX"
      },
      "source": [
        "**Plot predictions and feature importances**"
      ]
    },
    {
      "cell_type": "code",
      "execution_count": null,
      "metadata": {
        "colab": {
          "background_save": true
        },
        "id": "AgaOP4MPMhOL",
        "outputId": "16e1e686-5226-48c6-8f9d-2758012195da"
      },
      "outputs": [
        {
          "data": {
            "image/png": "[encoded data removed]",
            "text/plain": [
              "<Figure size 432x288 with 1 Axes>"
            ]
          },
          "metadata": {},
          "output_type": "display_data"
        }
      ],
      "source": [
        "# Find feature importance of our best model\n",
        "regressor.feature_importances_\n",
        "\n",
        "import seaborn as sns\n",
        "\n",
        "# Helper function for plotting feature importance\n",
        "def plot_features(columns, importances, n=20):\n",
        "    df = (pd.DataFrame({\"features\": columns,\n",
        "                        \"feature_importance\": importances})\n",
        "          .sort_values(\"feature_importance\", ascending=False)\n",
        "          .reset_index(drop=True))\n",
        "    \n",
        "    sns.barplot(x=\"feature_importance\",\n",
        "                y=\"features\",\n",
        "                data=df[:n],\n",
        "                orient=\"h\")\n",
        "    \n",
        "\n",
        "plot_features(X_train.columns, regressor.feature_importances_)"
      ]
    },
    {
      "cell_type": "markdown",
      "metadata": {
        "id": "bPAHEGYJLH6_"
      },
      "source": [
        "**3. Inverse Design**\n",
        "\n",
        "After fitting our model, we perform inverse design. In this demo, we do this using the pyswarm module, which is an implementation of the particle swarm optimization method."
      ]
    },
    {
      "cell_type": "markdown",
      "metadata": {
        "id": "fycZrGvpLM4W"
      },
      "source": [
        "**Refit using tuned hyper-parameters**"
      ]
    },
    {
      "cell_type": "code",
      "execution_count": null,
      "metadata": {
        "colab": {
          "background_save": true
        },
        "id": "ptLNyQZWLCwe",
        "outputId": "f83883e0-bf91-44bf-b029-83fd909eb667"
      },
      "outputs": [
        {
          "data": {
            "text/plain": [
              "GradientBoostingRegressor(max_depth=4, min_samples_split=4, n_estimators=393)"
            ]
          },
          "execution_count": null,
          "metadata": {},
          "output_type": "execute_result"
        }
      ],
      "source": [
        "best_params = regressor_cv.best_params_\n",
        "regressor = GradientBoostingRegressor()\n",
        "regressor.set_params(**best_params)\n",
        "regressor.fit(X, y)"
      ]
    },
    {
      "cell_type": "markdown",
      "metadata": {
        "id": "NGx_wBnYLRJO"
      },
      "source": [
        "**Bounds, objectives and constraints**\n",
        "\n",
        "Next, we define some bounds, objectives and constraints to be used for inverse design.\n",
        "\n",
        "\n",
        "1. Upper bounds for all compositions is  the 75th percentile of the training data.\n",
        "\n",
        "\n",
        "2. Lower bounds for all compositions is  the 25th percentile of the training data\n",
        "\n",
        "\n",
        "3. Objective: minimize Blast Furnace Slag, Fly Ash, Superplasticizer compositions\n",
        "\n",
        "\n",
        "4. Constraints:\n",
        "   \n",
        "   Compressive strength >= 70 MPa\n",
        "\n",
        "   Water <= 150 kg / m^3\n",
        "\n",
        "   Age <= 30 days"
      ]
    },
    {
      "cell_type": "code",
      "execution_count": null,
      "metadata": {
        "colab": {
          "background_save": true
        },
        "id": "2eULZzFtLq90"
      },
      "outputs": [],
      "source": [
        "upper_bounds = np.percentile(X, 75, axis=0) * 1.5\n",
        "lower_bounds = np.percentile(X, 25, axis=0) * 0.5\n",
        "\n",
        "def objective(X):\n",
        "    \"\"\"\n",
        "    We want to minimize\n",
        "        Blast Furnace Slag, Fly Ash, Superplasticizer\n",
        "    \"\"\"\n",
        "    return X[1]**2 + X[2]**2 + X[4]**2\n",
        "\n",
        "def constraints(X):\n",
        "    \"\"\"\n",
        "    We want to following constraints:\n",
        "        1. Compressive strength >= 70 MPa\n",
        "        2. Water <= 150 kg / m^3\n",
        "        3. Age <= 30 days\n",
        "    \"\"\"\n",
        "    predicted_strength = regressor.predict(X.reshape(1, -1))\n",
        "    cons_str_lower = predicted_strength - 70\n",
        "    cons_water_upper = 150 - X[3]\n",
        "    cons_age_upper = 30 - X[-1]\n",
        "    return [cons_str_lower, cons_water_upper, cons_age_upper]"
      ]
    },
    {
      "cell_type": "markdown",
      "metadata": {
        "id": "MW_CWfDBLs_1"
      },
      "source": [
        "**Design via particle swarm optimization**"
      ]
    },
    {
      "cell_type": "code",
      "execution_count": null,
      "metadata": {
        "colab": {
          "background_save": true
        },
        "id": "BleoaVQsLxfs",
        "outputId": "ed6083b4-0d9e-478a-b4e8-b0e634fa57a7"
      },
      "outputs": [
        {
          "name": "stdout",
          "output_type": "stream",
          "text": [
            "Requirement already satisfied: pyswarm in /usr/local/lib/python3.7/dist-packages (0.6)\n",
            "Requirement already satisfied: numpy in /usr/local/lib/python3.7/dist-packages (from pyswarm) (1.19.5)\n"
          ]
        }
      ],
      "source": [
        "!pip install pyswarm"
      ]
    },
    {
      "cell_type": "code",
      "execution_count": null,
      "metadata": {
        "id": "7cXCvhiYLrZN"
      },
      "outputs": [],
      "source": [
        "from pyswarm import pso\n",
        "\n",
        "X_opts = []\n",
        "n_runs = 5\n",
        "for n in range(n_runs):\n",
        "    X_opt, _ = pso(\n",
        "        objective, lower_bounds, upper_bounds, f_ieqcons=constraints,\n",
        "        swarmsize=100, maxiter=200)\n",
        "    X_opts.append(X_opt)\n",
        "X_opts = np.asarray(X_opts)\n",
        "y_hat_opts = regressor.predict(X_opts).reshape(-1, 1)\n",
        "data_opt = np.concatenate([X_opts, y_hat_opts], axis=1)\n",
        "df_predict = pd.DataFrame(columns=df.columns, data=data_opt)"
      ]
    },
    {
      "cell_type": "markdown",
      "metadata": {
        "id": "OSzJ8flML6t7"
      },
      "source": [
        "**Compare with unseen data**\n",
        "\n",
        "In fact, our dataset used in this demo is not the full dataset. We took out one sample that satisfies the constraints above and minimizes the objective. Let us now check how close our inverse-design results are to this unseen data point (colored red)."
      ]
    },
    {
      "cell_type": "code",
      "execution_count": null,
      "metadata": {
        "colab": {
          "background_save": true
        },
        "id": "c7uRXowtL-wK",
        "outputId": "585d946d-a8a6-44db-c91a-e7088485605b"
      },
      "outputs": [
        {
          "data": {
            "text/html": [
              "<style  type=\"text/css\" >\n",
              "#T_2af89f1c_61a4_11ec_81a4_0242ac1c0002row5_col0,#T_2af89f1c_61a4_11ec_81a4_0242ac1c0002row5_col1,#T_2af89f1c_61a4_11ec_81a4_0242ac1c0002row5_col2,#T_2af89f1c_61a4_11ec_81a4_0242ac1c0002row5_col3,#T_2af89f1c_61a4_11ec_81a4_0242ac1c0002row5_col4,#T_2af89f1c_61a4_11ec_81a4_0242ac1c0002row5_col5,#T_2af89f1c_61a4_11ec_81a4_0242ac1c0002row5_col6,#T_2af89f1c_61a4_11ec_81a4_0242ac1c0002row5_col7,#T_2af89f1c_61a4_11ec_81a4_0242ac1c0002row5_col8{\n",
              "            color:  red;\n",
              "        }</style><table id=\"T_2af89f1c_61a4_11ec_81a4_0242ac1c0002\" class=\"dataframe\"><thead>    <tr>        <th class=\"blank level0\" ></th>        <th class=\"col_heading level0 col0\" >Cement (component 1)(kg in a m^3 mixture)</th>        <th class=\"col_heading level0 col1\" >Blast Furnace Slag (component 2)(kg in a m^3 mixture)</th>        <th class=\"col_heading level0 col2\" >Fly Ash (component 3)(kg in a m^3 mixture)</th>        <th class=\"col_heading level0 col3\" >Water  (component 4)(kg in a m^3 mixture)</th>        <th class=\"col_heading level0 col4\" >Superplasticizer (component 5)(kg in a m^3 mixture)</th>        <th class=\"col_heading level0 col5\" >Coarse Aggregate  (component 6)(kg in a m^3 mixture)</th>        <th class=\"col_heading level0 col6\" >Fine Aggregate (component 7)(kg in a m^3 mixture)</th>        <th class=\"col_heading level0 col7\" >Age (day)</th>        <th class=\"col_heading level0 col8\" >Concrete compressive strength(MPa, megapascals) </th>    </tr></thead><tbody>\n",
              "                <tr>\n",
              "                        <th id=\"T_2af89f1c_61a4_11ec_81a4_0242ac1c0002level0_row0\" class=\"row_heading level0 row0\" >0</th>\n",
              "                        <td id=\"T_2af89f1c_61a4_11ec_81a4_0242ac1c0002row0_col0\" class=\"data row0 col0\" >450.969542</td>\n",
              "                        <td id=\"T_2af89f1c_61a4_11ec_81a4_0242ac1c0002row0_col1\" class=\"data row0 col1\" >0.000000</td>\n",
              "                        <td id=\"T_2af89f1c_61a4_11ec_81a4_0242ac1c0002row0_col2\" class=\"data row0 col2\" >0.000000</td>\n",
              "                        <td id=\"T_2af89f1c_61a4_11ec_81a4_0242ac1c0002row0_col3\" class=\"data row0 col3\" >87.837163</td>\n",
              "                        <td id=\"T_2af89f1c_61a4_11ec_81a4_0242ac1c0002row0_col4\" class=\"data row0 col4\" >0.000000</td>\n",
              "                        <td id=\"T_2af89f1c_61a4_11ec_81a4_0242ac1c0002row0_col5\" class=\"data row0 col5\" >1221.419213</td>\n",
              "                        <td id=\"T_2af89f1c_61a4_11ec_81a4_0242ac1c0002row0_col6\" class=\"data row0 col6\" >820.496279</td>\n",
              "                        <td id=\"T_2af89f1c_61a4_11ec_81a4_0242ac1c0002row0_col7\" class=\"data row0 col7\" >22.743301</td>\n",
              "                        <td id=\"T_2af89f1c_61a4_11ec_81a4_0242ac1c0002row0_col8\" class=\"data row0 col8\" >81.516061</td>\n",
              "            </tr>\n",
              "            <tr>\n",
              "                        <th id=\"T_2af89f1c_61a4_11ec_81a4_0242ac1c0002level0_row1\" class=\"row_heading level0 row1\" >1</th>\n",
              "                        <td id=\"T_2af89f1c_61a4_11ec_81a4_0242ac1c0002row1_col0\" class=\"data row1 col0\" >457.060101</td>\n",
              "                        <td id=\"T_2af89f1c_61a4_11ec_81a4_0242ac1c0002row1_col1\" class=\"data row1 col1\" >0.000000</td>\n",
              "                        <td id=\"T_2af89f1c_61a4_11ec_81a4_0242ac1c0002row1_col2\" class=\"data row1 col2\" >0.000000</td>\n",
              "                        <td id=\"T_2af89f1c_61a4_11ec_81a4_0242ac1c0002row1_col3\" class=\"data row1 col3\" >114.154359</td>\n",
              "                        <td id=\"T_2af89f1c_61a4_11ec_81a4_0242ac1c0002row1_col4\" class=\"data row1 col4\" >0.000000</td>\n",
              "                        <td id=\"T_2af89f1c_61a4_11ec_81a4_0242ac1c0002row1_col5\" class=\"data row1 col5\" >1153.686949</td>\n",
              "                        <td id=\"T_2af89f1c_61a4_11ec_81a4_0242ac1c0002row1_col6\" class=\"data row1 col6\" >862.235506</td>\n",
              "                        <td id=\"T_2af89f1c_61a4_11ec_81a4_0242ac1c0002row1_col7\" class=\"data row1 col7\" >27.421390</td>\n",
              "                        <td id=\"T_2af89f1c_61a4_11ec_81a4_0242ac1c0002row1_col8\" class=\"data row1 col8\" >79.047033</td>\n",
              "            </tr>\n",
              "            <tr>\n",
              "                        <th id=\"T_2af89f1c_61a4_11ec_81a4_0242ac1c0002level0_row2\" class=\"row_heading level0 row2\" >2</th>\n",
              "                        <td id=\"T_2af89f1c_61a4_11ec_81a4_0242ac1c0002row2_col0\" class=\"data row2 col0\" >399.907106</td>\n",
              "                        <td id=\"T_2af89f1c_61a4_11ec_81a4_0242ac1c0002row2_col1\" class=\"data row2 col1\" >0.000000</td>\n",
              "                        <td id=\"T_2af89f1c_61a4_11ec_81a4_0242ac1c0002row2_col2\" class=\"data row2 col2\" >0.000000</td>\n",
              "                        <td id=\"T_2af89f1c_61a4_11ec_81a4_0242ac1c0002row2_col3\" class=\"data row2 col3\" >134.216080</td>\n",
              "                        <td id=\"T_2af89f1c_61a4_11ec_81a4_0242ac1c0002row2_col4\" class=\"data row2 col4\" >0.000000</td>\n",
              "                        <td id=\"T_2af89f1c_61a4_11ec_81a4_0242ac1c0002row2_col5\" class=\"data row2 col5\" >1230.251020</td>\n",
              "                        <td id=\"T_2af89f1c_61a4_11ec_81a4_0242ac1c0002row2_col6\" class=\"data row2 col6\" >1007.306723</td>\n",
              "                        <td id=\"T_2af89f1c_61a4_11ec_81a4_0242ac1c0002row2_col7\" class=\"data row2 col7\" >24.445038</td>\n",
              "                        <td id=\"T_2af89f1c_61a4_11ec_81a4_0242ac1c0002row2_col8\" class=\"data row2 col8\" >73.084757</td>\n",
              "            </tr>\n",
              "            <tr>\n",
              "                        <th id=\"T_2af89f1c_61a4_11ec_81a4_0242ac1c0002level0_row3\" class=\"row_heading level0 row3\" >3</th>\n",
              "                        <td id=\"T_2af89f1c_61a4_11ec_81a4_0242ac1c0002row3_col0\" class=\"data row3 col0\" >408.362487</td>\n",
              "                        <td id=\"T_2af89f1c_61a4_11ec_81a4_0242ac1c0002row3_col1\" class=\"data row3 col1\" >0.000000</td>\n",
              "                        <td id=\"T_2af89f1c_61a4_11ec_81a4_0242ac1c0002row3_col2\" class=\"data row3 col2\" >0.000000</td>\n",
              "                        <td id=\"T_2af89f1c_61a4_11ec_81a4_0242ac1c0002row3_col3\" class=\"data row3 col3\" >140.501972</td>\n",
              "                        <td id=\"T_2af89f1c_61a4_11ec_81a4_0242ac1c0002row3_col4\" class=\"data row3 col4\" >0.000000</td>\n",
              "                        <td id=\"T_2af89f1c_61a4_11ec_81a4_0242ac1c0002row3_col5\" class=\"data row3 col5\" >1155.153286</td>\n",
              "                        <td id=\"T_2af89f1c_61a4_11ec_81a4_0242ac1c0002row3_col6\" class=\"data row3 col6\" >638.825675</td>\n",
              "                        <td id=\"T_2af89f1c_61a4_11ec_81a4_0242ac1c0002row3_col7\" class=\"data row3 col7\" >25.961168</td>\n",
              "                        <td id=\"T_2af89f1c_61a4_11ec_81a4_0242ac1c0002row3_col8\" class=\"data row3 col8\" >76.778176</td>\n",
              "            </tr>\n",
              "            <tr>\n",
              "                        <th id=\"T_2af89f1c_61a4_11ec_81a4_0242ac1c0002level0_row4\" class=\"row_heading level0 row4\" >4</th>\n",
              "                        <td id=\"T_2af89f1c_61a4_11ec_81a4_0242ac1c0002row4_col0\" class=\"data row4 col0\" >525.000000</td>\n",
              "                        <td id=\"T_2af89f1c_61a4_11ec_81a4_0242ac1c0002row4_col1\" class=\"data row4 col1\" >0.000000</td>\n",
              "                        <td id=\"T_2af89f1c_61a4_11ec_81a4_0242ac1c0002row4_col2\" class=\"data row4 col2\" >0.000008</td>\n",
              "                        <td id=\"T_2af89f1c_61a4_11ec_81a4_0242ac1c0002row4_col3\" class=\"data row4 col3\" >129.906361</td>\n",
              "                        <td id=\"T_2af89f1c_61a4_11ec_81a4_0242ac1c0002row4_col4\" class=\"data row4 col4\" >0.000000</td>\n",
              "                        <td id=\"T_2af89f1c_61a4_11ec_81a4_0242ac1c0002row4_col5\" class=\"data row4 col5\" >1294.213522</td>\n",
              "                        <td id=\"T_2af89f1c_61a4_11ec_81a4_0242ac1c0002row4_col6\" class=\"data row4 col6\" >645.195825</td>\n",
              "                        <td id=\"T_2af89f1c_61a4_11ec_81a4_0242ac1c0002row4_col7\" class=\"data row4 col7\" >21.860747</td>\n",
              "                        <td id=\"T_2af89f1c_61a4_11ec_81a4_0242ac1c0002row4_col8\" class=\"data row4 col8\" >81.078075</td>\n",
              "            </tr>\n",
              "            <tr>\n",
              "                        <th id=\"T_2af89f1c_61a4_11ec_81a4_0242ac1c0002level0_row5\" class=\"row_heading level0 row5\" >5</th>\n",
              "                        <td id=\"T_2af89f1c_61a4_11ec_81a4_0242ac1c0002row5_col0\" class=\"data row5 col0\" >485.000000</td>\n",
              "                        <td id=\"T_2af89f1c_61a4_11ec_81a4_0242ac1c0002row5_col1\" class=\"data row5 col1\" >0.000000</td>\n",
              "                        <td id=\"T_2af89f1c_61a4_11ec_81a4_0242ac1c0002row5_col2\" class=\"data row5 col2\" >0.000000</td>\n",
              "                        <td id=\"T_2af89f1c_61a4_11ec_81a4_0242ac1c0002row5_col3\" class=\"data row5 col3\" >146.000000</td>\n",
              "                        <td id=\"T_2af89f1c_61a4_11ec_81a4_0242ac1c0002row5_col4\" class=\"data row5 col4\" >0.000000</td>\n",
              "                        <td id=\"T_2af89f1c_61a4_11ec_81a4_0242ac1c0002row5_col5\" class=\"data row5 col5\" >1120.000000</td>\n",
              "                        <td id=\"T_2af89f1c_61a4_11ec_81a4_0242ac1c0002row5_col6\" class=\"data row5 col6\" >800.000000</td>\n",
              "                        <td id=\"T_2af89f1c_61a4_11ec_81a4_0242ac1c0002row5_col7\" class=\"data row5 col7\" >28.000000</td>\n",
              "                        <td id=\"T_2af89f1c_61a4_11ec_81a4_0242ac1c0002row5_col8\" class=\"data row5 col8\" >71.990000</td>\n",
              "            </tr>\n",
              "    </tbody></table>"
            ],
            "text/plain": [
              "<pandas.io.formats.style.Styler at 0x7ff87c81bed0>"
            ]
          },
          "execution_count": null,
          "metadata": {},
          "output_type": "execute_result"
        }
      ],
      "source": [
        "df_unseen = pd.read_csv('https://raw.githubusercontent.com/SamSham07/data_storage/main/Concrete_Data_unseen.csv')\n",
        "df_combined = pd.concat([df_predict, df_unseen], ignore_index=True)\n",
        "df_combined.style.applymap(lambda x: 'color: red', subset=5)"
      ]
    },
    {
      "cell_type": "code",
      "execution_count": null,
      "metadata": {
        "id": "BCDepbj1Lvx0"
      },
      "outputs": [],
      "source": [
        ""
      ]
    }
  ],
  "metadata": {
    "colab": {
      "name": "Concrete Prediction and Inverse Design.ipynb",
      "provenance": [],
      "authorship_tag": "ABX9TyPtDBJFF4Cbxsfg2Pu7RyS3",
      "include_colab_link": true
    },
    "kernelspec": {
      "display_name": "Python 3",
      "name": "python3"
    },
    "language_info": {
      "name": "python"
    }
  },
  "nbformat": 4,
  "nbformat_minor": 0
}